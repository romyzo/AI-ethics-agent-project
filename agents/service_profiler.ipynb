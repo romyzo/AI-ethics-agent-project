{
  "cells": [
    {
      "cell_type": "code",
      "execution_count": null,
      "metadata": {},
      "outputs": [],
      "source": [
        "# ==============================================================================\n",
        "\n",
        "# 👩‍💻 Author    : Hyelim Jo\n",
        "# 🎯 Purpose   : AI 윤리성 리스크 진단 에이전트 v1.0\n",
        "# 📅 Created   : 2025-10-22\n",
        "# 📜 Note      : service_profiler.ipynb\n",
        "\n",
        "# =============================================================================="
      ]
    },
    {
      "cell_type": "code",
      "execution_count": null,
      "metadata": {},
      "outputs": [],
      "source": [
        "# -------------------------------- Update Log ----------------------------------\n",
        "\n",
        "# 2025-10-22 14:00 / 초기 생성 / Service Profiler 기본 구조 구현\n",
        "# 2025-10-22 15:30 / API 키 오류 해결 / load_dotenv() 추가\n",
        "\n",
        "# ------------------------------------------------------------------------------"
      ]
    },
    {
      "cell_type": "code",
      "execution_count": null,
      "metadata": {},
      "outputs": [
        {
          "name": "stdout",
          "output_type": "stream",
          "text": [
            "✅ 라이브러리 불러오기 완료!\n"
          ]
        }
      ],
      "source": [
        "\n",
        "# step1. 라이브러리 불러오기\n",
        "from typing import Dict, Any\n",
        "from langchain_openai import ChatOpenAI\n",
        "from langchain.prompts import PromptTemplate\n",
        "from langchain_core.output_parsers import JsonOutputParser\n",
        "from dotenv import load_dotenv\n",
        "\n",
        "# 환경 변수 로드\n",
        "load_dotenv()\n",
        "\n",
        "print(\"[OK] 라이브러리 불러오기 완료\")\n"
      ]
    },
    {
      "cell_type": "code",
      "execution_count": null,
      "metadata": {},
      "outputs": [
        {
          "name": "stdout",
          "output_type": "stream",
          "text": [
            "✅ 프롬프트 정의 완료!\n"
          ]
        }
      ],
      "source": [
        "\n",
        "# step2. 프롬프트 템플릿 정의\n",
        "prompt_template = \"\"\"당신은 AI 윤리 전문가입니다.\n",
        "\n",
        "주어진 AI 서비스 설명을 분석하여 다음 정보를 JSON 형식으로 추출해주세요.\n",
        "\n",
        "# 서비스 설명:\n",
        "{service_description}\n",
        "\n",
        "# 추출할 정보:\n",
        "1. service_name: 서비스 이름\n",
        "2. service_type: 서비스 유형 (chatbot, recommendation, classification, prediction 중 선택)\n",
        "3. description: 핵심 설명 (1-2문장)\n",
        "4. data_processing: 처리하는 데이터\n",
        "5. user_impact: 사용자 영향\n",
        "6. risk_categories: 리스크 카테고리 (bias, privacy, transparency, accountability, safety, security 중 선택, 배열)\n",
        "\n",
        "JSON 형식으로만 답변해주세요.\n",
        "\"\"\"\n",
        "\n",
        "prompt = PromptTemplate.from_template(prompt_template)\n",
        "\n",
        "print(\"[OK] 프롬프트 정의 완료\")\n"
      ]
    },
    {
      "cell_type": "code",
      "execution_count": null,
      "metadata": {},
      "outputs": [
        {
          "name": "stdout",
          "output_type": "stream",
          "text": [
            "✅ Chain 구성 완료!\n"
          ]
        }
      ],
      "source": [
        "# step3. LLM 및 Chain 설정\n",
        "llm = ChatOpenAI(model=\"gpt-4o-mini\", temperature=0)\n",
        "json_parser = JsonOutputParser()\n",
        "chain = prompt | llm | json_parser\n",
        "\n",
        "print(\"[OK] Chain 구성 완료\")\n"
      ]
    },
    {
      "cell_type": "code",
      "execution_count": null,
      "metadata": {},
      "outputs": [
        {
          "name": "stdout",
          "output_type": "stream",
          "text": [
            "✅ 함수 정의 완료!\n"
          ]
        }
      ],
      "source": [
        "# step4. Service Profiler 함수 정의\n",
        "def service_profiler(state: Dict[str, Any]) -> Dict[str, Any]:\n",
        "    \"\"\"서비스 프로파일 생성\"\"\"\n",
        "    service_description = state.get(\"service_description\", \"\")\n",
        "    result = chain.invoke({\"service_description\": service_description})\n",
        "    state[\"service_profile\"] = result\n",
        "    \n",
        "    print(f\"[OK] 프로파일 생성 완료 - {result.get('service_name')} ({result.get('service_type')})\")\n",
        "    return state\n",
        "\n",
        "print(\"[OK] 함수 정의 완료\")\n"
      ]
    },
    {
      "cell_type": "code",
      "execution_count": null,
      "metadata": {},
      "outputs": [
        {
          "name": "stdout",
          "output_type": "stream",
          "text": [
            "\n",
            "============================================================\n",
            "🔍 Service Profiler 시작...\n",
            "============================================================\n",
            "\n",
            "📝 분석할 서비스: 채용 지원자의 이력서를 AI로 분석하여 적합한 후보자를 추천하는 시스템입니다. 학력, 경력, 자격증을 바탕으로 직무 적합도를 평가합니다....\n",
            "\n",
            "✅ 분석 완료!\n",
            "   - 서비스명: 이력서 분석 추천 시스템\n",
            "   - 서비스 유형: recommendation\n",
            "   - 리스크: bias, privacy, transparency\n",
            "\n",
            "============================================================\n",
            "📊 결과:\n",
            "============================================================\n",
            "{'service_name': '이력서 분석 추천 시스템', 'service_type': 'recommendation', 'description': '채용 지원자의 이력서를 AI로 분석하여 적합한 후보자를 추천하는 시스템입니다. 학력, 경력, 자격증을 바탕으로 직무 적합도를 평가합니다.', 'data_processing': ['이력서', '학력', '경력', '자격증'], 'user_impact': '적합한 후보자를 추천받아 채용 과정의 효율성을 높일 수 있습니다.', 'risk_categories': ['bias', 'privacy', 'transparency']}\n"
          ]
        }
      ],
      "source": [
        "# step5. 테스트\n",
        "test_state = {\n",
        "    \"service_description\": \"채용 지원자의 이력서를 AI로 분석하여 적합한 후보자를 추천하는 시스템입니다. 학력, 경력, 자격증을 바탕으로 직무 적합도를 평가합니다.\",\n",
        "    \"service_profile\": {}\n",
        "}\n",
        "\n",
        "result_state = service_profiler(test_state)\n",
        "\n",
        "print(\"\\n[결과]\")\n",
        "print(\"서비스명:\", result_state[\"service_profile\"][\"service_name\"])\n",
        "print(\"서비스 유형:\", result_state[\"service_profile\"][\"service_type\"])\n",
        "print(\"리스크 카테고리:\", \", \".join(result_state[\"service_profile\"][\"risk_categories\"]))\n",
        "print(\"\\n전체 프로파일:\")\n",
        "print(result_state[\"service_profile\"])\n"
      ]
    },
    {
      "cell_type": "code",
      "execution_count": null,
      "metadata": {},
      "outputs": [],
      "source": []
    }
  ],
  "metadata": {
    "language_info": {
      "name": "python"
    }
  },
  "nbformat": 4,
  "nbformat_minor": 2
}
