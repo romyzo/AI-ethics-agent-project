{
  "cells": [
    {
      "cell_type": "code",
      "execution_count": 1,
      "metadata": {},
      "outputs": [],
      "source": [
        "# ==============================================================================\n",
        "\n",
        "# 👩‍💻 Author    : Hyelim Jo\n",
        "# 🎯 Purpose   : AI 윤리성 리스크 진단 에이전트 v1.0\n",
        "# 📅 Created   : 2025-10-22\n",
        "# 📜 Note      : service_profiler.ipynb\n",
        "\n",
        "# =============================================================================="
      ]
    },
    {
      "cell_type": "code",
      "execution_count": 2,
      "metadata": {},
      "outputs": [],
      "source": [
        "# -------------------------------- Update Log ----------------------------------\n",
        "\n",
        "# 2025-10-22 14:00 / 초기 생성 / Service Profiler 기본 구조 구현\n",
        "# 2025-10-22 15:30 / API 키 오류 해결 / load_dotenv() 추가\n",
        "\n",
        "# ------------------------------------------------------------------------------"
      ]
    },
    {
      "cell_type": "code",
      "execution_count": 3,
      "metadata": {},
      "outputs": [
        {
          "name": "stdout",
          "output_type": "stream",
          "text": [
            "[OK] 라이브러리 불러오기 완료\n"
          ]
        }
      ],
      "source": [
        "# step1. 라이브러리 불러오기\n",
        "from typing import Dict, Any\n",
        "from langchain_openai import ChatOpenAI\n",
        "from langchain.prompts import PromptTemplate\n",
        "from langchain_core.output_parsers import JsonOutputParser\n",
        "from dotenv import load_dotenv\n",
        "\n",
        "# 환경 변수 로드\n",
        "load_dotenv()\n",
        "\n",
        "print(\"[OK] 라이브러리 불러오기 완료\")"
      ]
    },
    {
      "cell_type": "code",
      "execution_count": 4,
      "metadata": {},
      "outputs": [
        {
          "name": "stdout",
          "output_type": "stream",
          "text": [
            "[OK] 프롬프트 정의 완료\n"
          ]
        }
      ],
      "source": [
        "\n",
        "# step2. 프롬프트 템플릿 정의 (키 이름 변경: data_handling_method, user_impact_scope, diagnosed_risk_categories)\n",
        "prompt_template = \"\"\"당신은 AI 윤리 전문가입니다.\n",
        "\n",
        "주어진 AI 서비스 설명을 분석하여 다음 정보를 JSON 형식으로 추출해주세요.\n",
        "\n",
        "# 서비스 설명:\n",
        "{service_description}\n",
        "\n",
        "# 추출할 정보:\n",
        "1. service_name: 서비스 이름\n",
        "2. service_type: 서비스 유형 (recommendation, classification, prediction 등 가장 적절한 단어 선택)\n",
        "3. description: 핵심 설명 (1-2문장)\n",
        "4. data_handling_method: 처리하는 데이터 및 처리 방식 (최종 보고서의 '데이터 처리 방식' 항목에 해당)\n",
        "5. user_impact_scope: 사용자 영향 범위 (최종 보고서의 '사용자 영향 범위' 항목에 해당)\n",
        "6. diagnosed_risk_categories: 리스크 카테고리 (bias, privacy, transparency, accountability, safety, security 중 선택, 배열)\n",
        "\n",
        "JSON 형식으로만 답변해주세요.\n",
        "\"\"\"\n",
        "\n",
        "prompt = PromptTemplate.from_template(prompt_template)\n",
        "\n",
        "print(\"[OK] 프롬프트 정의 완료\")\n",
        "\n"
      ]
    },
    {
      "cell_type": "code",
      "execution_count": 5,
      "metadata": {},
      "outputs": [
        {
          "name": "stdout",
          "output_type": "stream",
          "text": [
            "[OK] Chain 구성 완료\n"
          ]
        }
      ],
      "source": [
        "# step3. LLM 및 Chain 설정\n",
        "llm = ChatOpenAI(model=\"gpt-4o-mini\", temperature=0)\n",
        "json_parser = JsonOutputParser()\n",
        "chain = prompt | llm | json_parser\n",
        "\n",
        "print(\"[OK] Chain 구성 완료\")\n"
      ]
    },
    {
      "cell_type": "code",
      "execution_count": 6,
      "metadata": {},
      "outputs": [
        {
          "name": "stdout",
          "output_type": "stream",
          "text": [
            "[OK] 함수 정의 완료\n"
          ]
        }
      ],
      "source": [
        "# step4. Service Profiler 함수 정의\n",
        "def service_profiler(state: Dict[str, Any]) -> Dict[str, Any]:\n",
        "    \"\"\"서비스 프로파일 생성\"\"\"\n",
        "    service_description = state.get(\"service_description\", \"\")\n",
        "    \n",
        "    # 💡 LLM 호출 시도\n",
        "    try:\n",
        "        result = chain.invoke({\"service_description\": service_description})\n",
        "    except Exception as e:\n",
        "        print(f\"[ERROR] LLM 호출 실패: {e}\")\n",
        "        # 오류 시 기본 구조 반환\n",
        "        result = {\n",
        "            \"service_name\": \"N/A\",\n",
        "            \"service_type\": \"N/A\",\n",
        "            \"description\": \"LLM 호출 실패로 프로파일 생성 불가\",\n",
        "            \"data_handling_method\": \"N/A\",\n",
        "            \"user_impact_scope\": \"N/A\",\n",
        "            \"diagnosed_risk_categories\": []\n",
        "        }\n",
        "\n",
        "    # State에 결과 저장\n",
        "    state[\"service_profile\"] = result\n",
        "    \n",
        "    print(f\"[OK] 프로파일 생성 완료 - {result.get('service_name')} ({result.get('service_type')})\")\n",
        "    return state\n",
        "\n",
        "print(\"[OK] 함수 정의 완료\")\n"
      ]
    },
    {
      "cell_type": "code",
      "execution_count": 7,
      "metadata": {},
      "outputs": [
        {
          "name": "stdout",
          "output_type": "stream",
          "text": [
            "[OK] 프로파일 생성 완료 - 이력서 분석 추천 시스템 (recommendation)\n",
            "\n",
            "[결과]\n",
            "서비스명: 이력서 분석 추천 시스템\n",
            "서비스 유형: recommendation\n",
            "데이터 처리 방식: 개인 식별 정보는 익명화하여 사용합니다.\n",
            "사용자 영향 범위: 채용 과정에서 지원자와 기업 모두에게 영향을 미칩니다.\n",
            "리스크 카테고리: bias, privacy, transparency\n",
            "\n",
            "전체 프로파일:\n",
            "{'service_name': '이력서 분석 추천 시스템', 'service_type': 'recommendation', 'description': '채용 지원자의 이력서를 AI로 분석하여 적합한 후보자를 추천하는 시스템입니다. 학력, 경력, 자격증을 바탕으로 직무 적합도를 평가합니다.', 'data_handling_method': '개인 식별 정보는 익명화하여 사용합니다.', 'user_impact_scope': '채용 과정에서 지원자와 기업 모두에게 영향을 미칩니다.', 'diagnosed_risk_categories': ['bias', 'privacy', 'transparency']}\n"
          ]
        }
      ],
      "source": [
        "# step5. 테스트\n",
        "test_state = {\n",
        "    \"service_description\": \"채용 지원자의 이력서를 AI로 분석하여 적합한 후보자를 추천하는 시스템입니다. 학력, 경력, 자격증을 바탕으로 직무 적합도를 평가합니다. 개인 식별 정보는 익명화하여 사용합니다.\",\n",
        "    \"service_profile\": {}\n",
        "}\n",
        "\n",
        "result_state = service_profiler(test_state)\n",
        "\n",
        "print(\"\\n[결과]\")\n",
        "print(\"서비스명:\", result_state[\"service_profile\"].get(\"service_name\"))\n",
        "print(\"서비스 유형:\", result_state[\"service_profile\"].get(\"service_type\"))\n",
        "print(\"데이터 처리 방식:\", result_state[\"service_profile\"].get(\"data_handling_method\")) # 변경된 키\n",
        "print(\"사용자 영향 범위:\", result_state[\"service_profile\"].get(\"user_impact_scope\"))     # 변경된 키\n",
        "print(\"리스크 카테고리:\", \", \".join(result_state[\"service_profile\"].get(\"diagnosed_risk_categories\", []))) # 변경된 키\n",
        "print(\"\\n전체 프로파일:\")\n",
        "print(result_state[\"service_profile\"])\n"
      ]
    },
    {
      "cell_type": "code",
      "execution_count": null,
      "metadata": {},
      "outputs": [],
      "source": []
    },
    {
      "cell_type": "code",
      "execution_count": null,
      "metadata": {},
      "outputs": [],
      "source": [
        "# step6. State 기반 실행 함수 정의\n",
        "import sys\n",
        "sys.path.append('..')\n",
        "from state_manager import load_state, save_state, update_status\n",
        "\n",
        "def service_profiler_execute(service_description: str):\n",
        "    \"\"\"Service Profiler 실행 함수\"\"\"\n",
        "    print(\"\\n\" + \"=\"*60)\n",
        "    print(\"🔍 Service Profiler 시작...\")\n",
        "    print(\"=\"*60)\n",
        "    \n",
        "    # State 로드\n",
        "    state = load_state()\n",
        "    \n",
        "    # 서비스 설명 설정\n",
        "    state[\"service_description\"] = service_description\n",
        "    \n",
        "    # 서비스 프로파일 생성\n",
        "    result = chain.invoke({\"service_description\": service_description})\n",
        "    state[\"service_profile\"] = result\n",
        "    \n",
        "    # State 저장\n",
        "    save_state(state)\n",
        "    update_status(state, \"service_profiler\", \"completed\")\n",
        "    \n",
        "    print(f\"✅ 프로파일 생성 완료 - {result.get('service_name')} ({result.get('service_type')})\")\n",
        "    print(f\"✅ 리스크 카테고리: {', '.join(result.get('risk_categories', []))}\")\n",
        "    \n",
        "    return state\n",
        "\n",
        "print(\"✅ Service Profiler 실행 함수 정의 완료\")\n"
      ]
    }
  ],
  "metadata": {
    "kernelspec": {
      "display_name": "langchain-kr-JIaWGMA_-py3.11",
      "language": "python",
      "name": "python3"
    },
    "language_info": {
      "codemirror_mode": {
        "name": "ipython",
        "version": 3
      },
      "file_extension": ".py",
      "mimetype": "text/x-python",
      "name": "python",
      "nbconvert_exporter": "python",
      "pygments_lexer": "ipython3",
      "version": "3.11.9"
    }
  },
  "nbformat": 4,
  "nbformat_minor": 2
}
