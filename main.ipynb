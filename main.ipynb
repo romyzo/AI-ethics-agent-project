{
 "cells": [
  {
   "cell_type": "markdown",
   "id": "30076a70",
   "metadata": {},
   "source": [
    "# 🛡️ AI 윤리 리스크 진단 에이전트\n",
    "\n",
    "PDF 파일을 업로드하여 AI 서비스의 윤리 리스크를 진단합니다.\n"
   ]
  },
  {
   "cell_type": "code",
   "execution_count": 19,
   "id": "1277048a",
   "metadata": {},
   "outputs": [
    {
     "name": "stdout",
     "output_type": "stream",
     "text": [
      "✅ 라이브러리 불러오기 완료!\n",
      "✅ OpenAI API 키 설정 확인: 설정됨\n"
     ]
    }
   ],
   "source": [
    "# step1. 라이브러리 불러오기\n",
    "import os\n",
    "import sys\n",
    "import json\n",
    "from pathlib import Path\n",
    "from dotenv import load_dotenv\n",
    "\n",
    "# 환경 변수 로드\n",
    "load_dotenv()\n",
    "\n",
    "# 에이전트 디렉토리 추가\n",
    "sys.path.append(os.path.join(os.path.dirname('.'), 'agents'))\n",
    "\n",
    "print(\"✅ 라이브러리 불러오기 완료!\")\n",
    "print(f\"✅ OpenAI API 키 설정 확인: {'설정됨' if os.getenv('OPENAI_API_KEY') else '설정 안됨'}\")\n"
   ]
  },
  {
   "cell_type": "code",
   "execution_count": 20,
   "id": "d1384c84",
   "metadata": {},
   "outputs": [
    {
     "name": "stdout",
     "output_type": "stream",
     "text": [
      "✅ PDF 처리 함수 정의 완료!\n"
     ]
    }
   ],
   "source": [
    "# step2. PDF 파일 업로드 및 서비스 정보 추출\n",
    "from langchain_community.document_loaders import PyMuPDFLoader\n",
    "from langchain_openai import ChatOpenAI\n",
    "from langchain.prompts import PromptTemplate\n",
    "from langchain_core.output_parsers import JsonOutputParser\n",
    "\n",
    "def extract_service_info_from_pdf(pdf_path):\n",
    "    \"\"\"PDF에서 서비스 정보를 추출합니다.\"\"\"\n",
    "    try:\n",
    "        # PDF 로드\n",
    "        loader = PyMuPDFLoader(pdf_path)\n",
    "        docs = loader.load()\n",
    "        \n",
    "        # 전체 텍스트 결합\n",
    "        full_text = \"\\n\".join([doc.page_content for doc in docs])\n",
    "        \n",
    "        # LLM으로 서비스 정보 추출\n",
    "        llm = ChatOpenAI(model=\"gpt-4o-mini\", temperature=0)\n",
    "        \n",
    "        prompt_template = \"\"\"다음 PDF 문서에서 AI 서비스에 대한 정보를 추출하여 JSON 형식으로 반환하세요.\n",
    "\n",
    "PDF 내용:\n",
    "{content}\n",
    "\n",
    "추출할 정보:\n",
    "1. service_name: 서비스 이름\n",
    "2. service_type: 서비스 유형 (recommendation, classification, prediction 등)\n",
    "3. description: 서비스 설명 (1-2문장)\n",
    "4. data_handling_method: 처리하는 데이터 및 처리 방식\n",
    "5. user_impact_scope: 사용자 영향 범위\n",
    "6. diagnosed_risk_categories: 리스크 카테고리 (bias, privacy, transparency, accountability, safety, security 중 선택)\n",
    "\n",
    "JSON 형식으로만 답변하세요.\"\"\"\n",
    "\n",
    "        prompt = PromptTemplate.from_template(prompt_template)\n",
    "        parser = JsonOutputParser()\n",
    "        chain = prompt | llm | parser\n",
    "        \n",
    "        result = chain.invoke({\"content\": full_text})\n",
    "        \n",
    "        # 원본 PDF 텍스트도 함께 반환\n",
    "        result[\"original_text\"] = full_text\n",
    "        \n",
    "        return result\n",
    "        \n",
    "    except Exception as e:\n",
    "        print(f\"❌ PDF 처리 실패: {e}\")\n",
    "        return None\n",
    "\n",
    "print(\"✅ PDF 처리 함수 정의 완료!\")\n"
   ]
  },
  {
   "cell_type": "code",
   "execution_count": 21,
   "id": "b7786985",
   "metadata": {},
   "outputs": [
    {
     "name": "stdout",
     "output_type": "stream",
     "text": [
      "================================================================================\n",
      "🛡️ AI 윤리 리스크 진단 에이전트 시작\n",
      "================================================================================\n",
      "📄 PDF 파일 발견: sample_service.pdf\n",
      "\n",
      "🔍 PDF에서 서비스 정보를 추출하는 중...\n"
     ]
    },
    {
     "name": "stdout",
     "output_type": "stream",
     "text": [
      "✅ 서비스 정보 추출 완료!\n",
      "   - 서비스명: AI Recommendation System\n",
      "   - 서비스 유형: recommendation\n",
      "   - 리스크 카테고리: bias, privacy\n",
      "\n",
      "🚀 파이프라인 실행을 시작합니다!\n"
     ]
    }
   ],
   "source": [
    "# step3. PDF 파일 경로 설정 및 서비스 정보 추출\n",
    "print(\"=\"*80)\n",
    "print(\"🛡️ AI 윤리 리스크 진단 에이전트 시작\")\n",
    "print(\"=\"*80)\n",
    "\n",
    "# PDF 파일 경로 설정 (사용자가 이 부분을 수정하세요)\n",
    "pdf_file_path = \"sample_service.pdf\"  # 여기에 실제 PDF 파일 경로를 입력하세요\n",
    "\n",
    "# PDF 파일이 존재하는지 확인\n",
    "if not os.path.exists(pdf_file_path):\n",
    "    print(f\"❌ PDF 파일을 찾을 수 없습니다: {pdf_file_path}\")\n",
    "    print(\"📝 사용법:\")\n",
    "    print(\"1. PDF 파일을 현재 디렉토리에 업로드하세요\")\n",
    "    print(\"2. 위의 'pdf_file_path' 변수를 실제 파일명으로 수정하세요\")\n",
    "    print(\"3. 이 셀을 다시 실행하세요\")\n",
    "else:\n",
    "    print(f\"📄 PDF 파일 발견: {pdf_file_path}\")\n",
    "    \n",
    "    # 서비스 정보 추출\n",
    "    print(\"\\n🔍 PDF에서 서비스 정보를 추출하는 중...\")\n",
    "    service_info = extract_service_info_from_pdf(pdf_file_path)\n",
    "    \n",
    "    if service_info:\n",
    "        print(\"✅ 서비스 정보 추출 완료!\")\n",
    "        print(f\"   - 서비스명: {service_info.get('service_name', 'N/A')}\")\n",
    "        print(f\"   - 서비스 유형: {service_info.get('service_type', 'N/A')}\")\n",
    "        print(f\"   - 리스크 카테고리: {', '.join(service_info.get('diagnosed_risk_categories', []))}\")\n",
    "        \n",
    "        # 추출된 정보를 변수에 저장\n",
    "        service_description = service_info.get('description', '')\n",
    "        extracted_service_profile = service_info\n",
    "        \n",
    "        print(\"\\n🚀 파이프라인 실행을 시작합니다!\")\n",
    "    else:\n",
    "        print(\"❌ 서비스 정보 추출에 실패했습니다.\")\n"
   ]
  },
  {
   "cell_type": "code",
   "execution_count": 22,
   "id": "1bafdc5d",
   "metadata": {},
   "outputs": [
    {
     "name": "stdout",
     "output_type": "stream",
     "text": [
      "\n",
      "============================================================\n",
      "1️⃣ Service Profiler 실행 중...\n",
      "============================================================\n",
      "✅ State 로드 완료 → agent_state.json\n",
      "✅ State 저장 완료 → agent_state.json\n",
      "✅ Service Profiler 완료! (PDF 정보를 State에 저장)\n"
     ]
    }
   ],
   "source": [
    "# step4. Service Profiler 실행 (PDF에서 추출한 정보 사용)\n",
    "print(\"\\n\" + \"=\"*60)\n",
    "print(\"1️⃣ Service Profiler 실행 중...\")\n",
    "print(\"=\"*60)\n",
    "\n",
    "try:\n",
    "    # PDF에서 추출한 서비스 정보를 사용하여 State에 저장\n",
    "    from state_manager import load_state, save_state\n",
    "    \n",
    "    # State 로드 및 업데이트\n",
    "    state = load_state()\n",
    "    state[\"service_description\"] = service_description\n",
    "    state[\"service_profile\"] = extracted_service_profile\n",
    "    save_state(state)\n",
    "    \n",
    "    print(\"✅ Service Profiler 완료! (PDF 정보를 State에 저장)\")\n",
    "    \n",
    "except Exception as e:\n",
    "    print(f\"❌ Service Profiler 실행 실패: {e}\")\n",
    "    import traceback\n",
    "    traceback.print_exc()\n"
   ]
  },
  {
   "cell_type": "code",
   "execution_count": 7,
   "id": "50f96d81",
   "metadata": {},
   "outputs": [
    {
     "name": "stdout",
     "output_type": "stream",
     "text": [
      "\n",
      "============================================================\n",
      "2️⃣ Evidence Collector 실행 중...\n",
      "============================================================\n",
      "❌ Evidence Collector 실행 실패: cannot import name 'evidence_collector_execute' from 'agents.evidence_collector' (c:\\skala_workspace\\AI Agent\\skala_gai\\ai_ethics_agent\\agents\\evidence_collector.py)\n"
     ]
    },
    {
     "name": "stderr",
     "output_type": "stream",
     "text": [
      "Traceback (most recent call last):\n",
      "  File \"C:\\Users\\SKAX\\AppData\\Local\\Temp\\ipykernel_22060\\3099506715.py\", line 7, in <module>\n",
      "    from agents.evidence_collector import evidence_collector_execute\n",
      "ImportError: cannot import name 'evidence_collector_execute' from 'agents.evidence_collector' (c:\\skala_workspace\\AI Agent\\skala_gai\\ai_ethics_agent\\agents\\evidence_collector.py)\n"
     ]
    }
   ],
   "source": [
    "# step5. Evidence Collector 실행\n",
    "print(\"\\n\" + \"=\"*60)\n",
    "print(\"2️⃣ Evidence Collector 실행 중...\")\n",
    "print(\"=\"*60)\n",
    "\n",
    "try:\n",
    "    from agents.evidence_collector import evidence_collector_execute\n",
    "    \n",
    "    evidence_collector_execute()\n",
    "    print(\"✅ Evidence Collector 완료!\")\n",
    "    \n",
    "except Exception as e:\n",
    "    print(f\"❌ Evidence Collector 실행 실패: {e}\")\n",
    "    import traceback\n",
    "    traceback.print_exc()\n"
   ]
  },
  {
   "cell_type": "code",
   "execution_count": 24,
   "id": "14927785",
   "metadata": {},
   "outputs": [
    {
     "name": "stdout",
     "output_type": "stream",
     "text": [
      "\n",
      "============================================================\n",
      "3️⃣ Risk Assessor 실행 중...\n",
      "============================================================\n",
      "❌ Risk Assessor 실행 실패: No module named 'risk_assessor'\n"
     ]
    },
    {
     "name": "stderr",
     "output_type": "stream",
     "text": [
      "Traceback (most recent call last):\n",
      "  File \"C:\\Users\\SKAX\\AppData\\Local\\Temp\\ipykernel_10072\\1330815303.py\", line 7, in <module>\n",
      "    from risk_assessor import risk_assessor_execute\n",
      "ModuleNotFoundError: No module named 'risk_assessor'\n"
     ]
    }
   ],
   "source": [
    "# step6. Risk Assessor 실행\n",
    "print(\"\\n\" + \"=\"*60)\n",
    "print(\"3️⃣ Risk Assessor 실행 중...\")\n",
    "print(\"=\"*60)\n",
    "\n",
    "try:\n",
    "    from risk_assessor import risk_assessor_execute\n",
    "    \n",
    "    risk_assessor_execute()\n",
    "    print(\"✅ Risk Assessor 완료!\")\n",
    "    \n",
    "except Exception as e:\n",
    "    print(f\"❌ Risk Assessor 실행 실패: {e}\")\n",
    "    import traceback\n",
    "    traceback.print_exc()\n"
   ]
  },
  {
   "cell_type": "code",
   "execution_count": 25,
   "id": "31512f43",
   "metadata": {},
   "outputs": [
    {
     "name": "stdout",
     "output_type": "stream",
     "text": [
      "\n",
      "============================================================\n",
      "4️⃣ Mitigation Recommender 실행 중...\n",
      "============================================================\n",
      "❌ Mitigation Recommender 실행 실패: No module named 'mitigation_recommender'\n"
     ]
    },
    {
     "name": "stderr",
     "output_type": "stream",
     "text": [
      "Traceback (most recent call last):\n",
      "  File \"C:\\Users\\SKAX\\AppData\\Local\\Temp\\ipykernel_10072\\2384190324.py\", line 7, in <module>\n",
      "    from mitigation_recommender import mitigation_recommender_execute\n",
      "ModuleNotFoundError: No module named 'mitigation_recommender'\n"
     ]
    }
   ],
   "source": [
    "# step7. Mitigation Recommender 실행\n",
    "print(\"\\n\" + \"=\"*60)\n",
    "print(\"4️⃣ Mitigation Recommender 실행 중...\")\n",
    "print(\"=\"*60)\n",
    "\n",
    "try:\n",
    "    from mitigation_recommender import mitigation_recommender_execute\n",
    "    \n",
    "    mitigation_recommender_execute()\n",
    "    print(\"✅ Mitigation Recommender 완료!\")\n",
    "    \n",
    "except Exception as e:\n",
    "    print(f\"❌ Mitigation Recommender 실행 실패: {e}\")\n",
    "    import traceback\n",
    "    traceback.print_exc()\n"
   ]
  },
  {
   "cell_type": "code",
   "execution_count": 26,
   "id": "13d7f09e",
   "metadata": {},
   "outputs": [
    {
     "name": "stdout",
     "output_type": "stream",
     "text": [
      "\n",
      "============================================================\n",
      "5️⃣ Report Composer 실행 중...\n",
      "============================================================\n",
      "❌ Report Composer 실행 실패: No module named 'report_composer'\n"
     ]
    },
    {
     "name": "stderr",
     "output_type": "stream",
     "text": [
      "Traceback (most recent call last):\n",
      "  File \"C:\\Users\\SKAX\\AppData\\Local\\Temp\\ipykernel_10072\\3035651937.py\", line 7, in <module>\n",
      "    from report_composer import report_composer_execute\n",
      "ModuleNotFoundError: No module named 'report_composer'\n"
     ]
    }
   ],
   "source": [
    "# step8. Report Composer 실행\n",
    "print(\"\\n\" + \"=\"*60)\n",
    "print(\"5️⃣ Report Composer 실행 중...\")\n",
    "print(\"=\"*60)\n",
    "\n",
    "try:\n",
    "    from report_composer import report_composer_execute\n",
    "    \n",
    "    final_state = report_composer_execute()\n",
    "    print(\"✅ Report Composer 완료!\")\n",
    "    \n",
    "except Exception as e:\n",
    "    print(f\"❌ Report Composer 실행 실패: {e}\")\n",
    "    import traceback\n",
    "    traceback.print_exc()\n",
    "    final_state = {}\n"
   ]
  },
  {
   "cell_type": "code",
   "execution_count": 27,
   "id": "00af9c29",
   "metadata": {},
   "outputs": [
    {
     "name": "stdout",
     "output_type": "stream",
     "text": [
      "\n",
      "================================================================================\n",
      "🎉 AI 윤리 리스크 진단 완료!\n",
      "================================================================================\n",
      "📄 보고서 생성에 문제가 있었습니다.\n",
      "\n",
      "✅ 전체 파이프라인 실행 완료!\n"
     ]
    }
   ],
   "source": [
    "# step9. 최종 결과 출력\n",
    "print(\"\\n\" + \"=\"*80)\n",
    "print(\"🎉 AI 윤리 리스크 진단 완료!\")\n",
    "print(\"=\"*80)\n",
    "\n",
    "try:\n",
    "    report_file = final_state.get(\"report_file_path\", \"\")\n",
    "    if report_file:\n",
    "        print(f\"📄 최종 보고서가 생성되었습니다: {report_file}\")\n",
    "    else:\n",
    "        print(\"📄 보고서 생성에 문제가 있었습니다.\")\n",
    "    \n",
    "    print(\"\\n✅ 전체 파이프라인 실행 완료!\")\n",
    "    \n",
    "except Exception as e:\n",
    "    print(f\"\\n❌ 최종 결과 처리 중 오류가 발생했습니다: {e}\")\n"
   ]
  }
 ],
 "metadata": {
  "kernelspec": {
   "display_name": "langchain-kr-JIaWGMA_-py3.11",
   "language": "python",
   "name": "python3"
  },
  "language_info": {
   "codemirror_mode": {
    "name": "ipython",
    "version": 3
   },
   "file_extension": ".py",
   "mimetype": "text/x-python",
   "name": "python",
   "nbconvert_exporter": "python",
   "pygments_lexer": "ipython3",
   "version": "3.11.9"
  }
 },
 "nbformat": 4,
 "nbformat_minor": 5
}
