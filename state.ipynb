{
 "cells": [
  {
   "cell_type": "markdown",
   "id": "8c6b3922",
   "metadata": {},
   "source": [
    "# -------------------------------------------------------------\n",
    "# Author: AI Ethics Agent Team\n",
    "# Purpose: 에이전트 간 데이터 공유를 위한 State 정의\n",
    "# Created: 2025-10-22\n",
    "# Note: LangGraph State 구조\n",
    "# -------------------------------------------------------------\n"
   ]
  },
  {
   "cell_type": "code",
   "execution_count": null,
   "id": "e5467147",
   "metadata": {},
   "outputs": [],
   "source": [
    "# step1. 라이브러리 불러오기\n",
    "from typing import TypedDict, List, Dict, Any\n"
   ]
  },
  {
   "cell_type": "code",
   "execution_count": null,
   "id": "cb782ae0",
   "metadata": {},
   "outputs": [],
   "source": [
    "# step2. State 정의\n",
    "class AgentState(TypedDict):\n",
    "    \"\"\"AI 윤리 리스크 진단 에이전트 State\"\"\"\n",
    "    service_description: str\n",
    "    service_profile: Dict[str, Any]\n",
    "    collected_evidence: List[Dict[str, Any]]\n",
    "    risk_assessment: Dict[str, Any]\n",
    "    recommendations: List[Dict[str, Any]]\n",
    "    final_report: str\n",
    "\n",
    "print(\"✅ State 정의 완료!\")\n"
   ]
  }
 ],
 "metadata": {
  "kernelspec": {
   "display_name": "langchain-kr-JIaWGMA_-py3.11",
   "language": "python",
   "name": "python3"
  },
  "language_info": {
   "name": "python",
   "version": "3.11.9"
  }
 },
 "nbformat": 4,
 "nbformat_minor": 5
}
